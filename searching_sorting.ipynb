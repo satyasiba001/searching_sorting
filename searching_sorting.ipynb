{
 "cells": [
  {
   "cell_type": "code",
   "execution_count": 1,
   "metadata": {},
   "outputs": [
    {
     "name": "stdout",
     "output_type": "stream",
     "text": [
      "6\n"
     ]
    }
   ],
   "source": [
    "#LEFT PIVOT\n",
    "l = [15,30,35,48,67,100,2,5,10]\n",
    "def rightpivot(arr):\n",
    "    start = 0\n",
    "    end = len(arr)-1\n",
    "    mid = start + (end-start)//2\n",
    "    while(start<end):\n",
    "        if arr[mid]>=arr[0]:\n",
    "            start = mid+1\n",
    "        else:\n",
    "            end = mid\n",
    "        mid = start + (end-start)//2\n",
    "    return start\n",
    "print(rightpivot(l))\n",
    "    "
   ]
  },
  {
   "cell_type": "code",
   "execution_count": 2,
   "metadata": {},
   "outputs": [
    {
     "name": "stdout",
     "output_type": "stream",
     "text": [
      "7\n"
     ]
    }
   ],
   "source": [
    "#RIGHT PIVOT\n",
    "l = [15,30,35,37,48,55,67,100,2,5,10]\n",
    "def leftpivot(arr):\n",
    "    start = 0\n",
    "    end = len(arr)-1\n",
    "    mid = start+(end - start)//2\n",
    "    while(start < end):\n",
    "        if arr[mid]>=arr[0]:\n",
    "            start = mid\n",
    "        else:\n",
    "            end = mid-1\n",
    "        mid = start + (end-start)//2\n",
    "    return start\n",
    "\n",
    "print(leftpivot(l))"
   ]
  },
  {
   "cell_type": "code",
   "execution_count": 3,
   "metadata": {},
   "outputs": [
    {
     "data": {
      "text/plain": [
       "3"
      ]
     },
     "execution_count": 3,
     "metadata": {},
     "output_type": "execute_result"
    }
   ],
   "source": [
    "#FIND SQUARE ROOT\n",
    "def findsqrt(x):\n",
    "    ans = -1\n",
    "    start = 0\n",
    "    end = x\n",
    "    mid = start + (end-start)//2\n",
    "    while(start<=end):\n",
    "        if mid*mid == x:\n",
    "            return mid\n",
    "        if mid*mid > x:\n",
    "            end = mid -1\n",
    "        else:\n",
    "            start = mid +1\n",
    "            ans = mid\n",
    "        mid = start + (end-start)//2\n",
    "    return mid\n",
    "\n",
    "findsqrt(9)\n"
   ]
  },
  {
   "cell_type": "code",
   "execution_count": 4,
   "metadata": {},
   "outputs": [],
   "source": [
    "#SELECTION SORT\n",
    "def selection(arr,n):\n",
    "    for i in range(n-1):\n",
    "        mini = i\n",
    "        for j in range(i,n):\n",
    "            if arr[j] < arr[mini]:\n",
    "                mini = j\n",
    "        arr[i],arr[mini]=arr[mini],arr[i]\n",
    "    return arr\n",
    "            \n"
   ]
  },
  {
   "cell_type": "code",
   "execution_count": 5,
   "metadata": {},
   "outputs": [
    {
     "data": {
      "text/plain": [
       "[0, 3, 5, 7, 8, 10, 12, 21, 34]"
      ]
     },
     "execution_count": 5,
     "metadata": {},
     "output_type": "execute_result"
    }
   ],
   "source": [
    "l = [3,5,7,8,0,34,21,12,10]\n",
    "selection(l,9)"
   ]
  },
  {
   "cell_type": "code",
   "execution_count": 6,
   "metadata": {},
   "outputs": [
    {
     "data": {
      "text/plain": [
       "[-10, 0, 3, 6, 7, 12]"
      ]
     },
     "execution_count": 6,
     "metadata": {},
     "output_type": "execute_result"
    }
   ],
   "source": [
    "#BUBBLE_SORT\n",
    "def bubble(arr,n):\n",
    "    for i in range(1,n):\n",
    "        temp = False\n",
    "        for j in range(n-i):\n",
    "            if arr[j] > arr[j+1]:\n",
    "                arr[j],arr[j+1]=arr[j+1],arr[j]\n",
    "                temp = True\n",
    "        if temp == False:\n",
    "            #Already sorted\n",
    "            break\n",
    "    return arr\n",
    "k = [3,6,7,0,12,-10]\n",
    "bubble(k,6)\n",
    "\n"
   ]
  },
  {
   "cell_type": "code",
   "execution_count": 7,
   "metadata": {},
   "outputs": [],
   "source": [
    "#INSERTION_SORT\n",
    "def insertionSort(arr,n):\n",
    "\n",
    "    for i in range(1, n):\n",
    "        key = arr[i]\n",
    "        j = i-1\n",
    "        while j >=0 and key < arr[j] :\n",
    "                arr[j+1] = arr[j]\n",
    "                j -= 1\n",
    "        arr[j+1] = key\n",
    "    return arr"
   ]
  },
  {
   "cell_type": "code",
   "execution_count": 8,
   "metadata": {},
   "outputs": [
    {
     "data": {
      "text/plain": [
       "[-1, 0, 2, 3, 4, 5, 6]"
      ]
     },
     "execution_count": 8,
     "metadata": {},
     "output_type": "execute_result"
    }
   ],
   "source": [
    "array = [2,3,4,5,6,0,-1]\n",
    "insertionSort(array,7)"
   ]
  },
  {
   "cell_type": "code",
   "execution_count": 9,
   "metadata": {},
   "outputs": [],
   "source": [
    "#QUICK_SORT\n",
    "def Partition(arr,l,e):\n",
    "    start = l\n",
    "    end = e\n",
    "    pivot = arr[l]\n",
    "    while start < end:\n",
    "        while arr[start] <= pivot:\n",
    "            start += 1\n",
    "        while arr[end] > pivot:\n",
    "            end -= 1\n",
    "        if start < end:\n",
    "            arr[end],arr[start]=arr[start],arr[end]\n",
    "    arr[l],arr[end]= arr[end],arr[l]\n",
    "    return end\n",
    "def quicksort(arr,l,e):\n",
    "    if l < e:\n",
    "        p = Partition(arr,l,e)\n",
    "        quicksort(arr,l,p-1)\n",
    "        quicksort(arr,p+1,e)\n"
   ]
  },
  {
   "cell_type": "code",
   "execution_count": 15,
   "metadata": {},
   "outputs": [
    {
     "data": {
      "text/plain": [
       "[-10, 0, 1, 2, 3, 4, 5, 6, 7, 8, 9]"
      ]
     },
     "execution_count": 15,
     "metadata": {},
     "output_type": "execute_result"
    }
   ],
   "source": [
    "ggg = [8,-10,2,3,0,9,5,6,7,1,4]\n",
    "quicksort(ggg,0,10)\n",
    "ggg\n"
   ]
  },
  {
   "cell_type": "code",
   "execution_count": 16,
   "metadata": {},
   "outputs": [
    {
     "data": {
      "text/plain": [
       "[-100, -1, 0, 0, 1, 2, 3, 4, 5, 7, 8]"
      ]
     },
     "execution_count": 16,
     "metadata": {},
     "output_type": "execute_result"
    }
   ],
   "source": [
    "#MERGE_SORT \n",
    "arr=[3,2,0,-1,-100,0,5,4,7,8,1]\n",
    "def MMergesort(arr):\n",
    "    if len(arr)>1:\n",
    "        mid = len(arr)//2\n",
    "        L = arr[:mid]\n",
    "        R = arr[mid:]\n",
    "        MMergesort(L)\n",
    "        MMergesort(R)\n",
    "        i = j = k = 0\n",
    "        while i < len(L) and j <len(R):\n",
    "            if L[i] <= R[j]:\n",
    "                arr[k]=L[i]\n",
    "                i+=1\n",
    "            else:\n",
    "                arr[k] = R[j]\n",
    "                j+=1\n",
    "            k+=1\n",
    "        while i<len(L):\n",
    "            arr[k]=L[i]\n",
    "            k+=1\n",
    "            i+=1\n",
    "        while j<len(R):\n",
    "            arr[k]=R[j]\n",
    "            k+=1\n",
    "            j+=1\n",
    "MMergesort(arr)\n",
    "arr\n",
    "    "
   ]
  },
  {
   "cell_type": "code",
   "execution_count": 12,
   "metadata": {},
   "outputs": [
    {
     "name": "stdout",
     "output_type": "stream",
     "text": [
      "Given array is\n",
      "12 11 13 5 6 7 \n",
      "Sorted array is: \n",
      "5 6 7 11 12 13 \n"
     ]
    }
   ],
   "source": [
    "# Python program for implementation of MergeSort\n",
    "def mergeSort(arr):\n",
    "\tif len(arr) > 1:\n",
    "\t\tmid = len(arr)//2\n",
    "\t\tL = arr[:mid]\n",
    "\t\tR = arr[mid:]\n",
    "\t\tmergeSort(L)\n",
    "\t\tmergeSort(R)\n",
    "\t\ti = j = k = 0\n",
    "\t\twhile i < len(L) and j < len(R):\n",
    "\t\t\tif L[i] <= R[j]:\n",
    "\t\t\t\tarr[k] = L[i]\n",
    "\t\t\t\ti += 1\n",
    "\t\t\telse:\n",
    "\t\t\t\tarr[k] = R[j]\n",
    "\t\t\t\tj += 1\n",
    "\t\t\tk +=1\n",
    "\t\twhile i < len(L):\n",
    "\t\t\tarr[k] = L[i]\n",
    "\t\t\ti += 1\n",
    "\t\t\tk += 1\n",
    "\n",
    "\t\twhile j < len(R):\n",
    "\t\t\tarr[k] = R[j]\n",
    "\t\t\tj += 1\n",
    "\t\t\tk += 1\n",
    "\n",
    "# Code to print the list\n",
    "\n",
    "\n",
    "def printList(arr):\n",
    "\tfor i in range(len(arr)):\n",
    "\t\tprint(arr[i], end=\" \")\n",
    "\tprint()\n",
    "\n",
    "\n",
    "# Driver Code\n",
    "if __name__ == '__main__':\n",
    "\tarr = [12, 11, 13, 5, 6, 7]\n",
    "\tprint(\"Given array is\", end=\"\\n\")\n",
    "\tprintList(arr)\n",
    "\tmergeSort(arr)\n",
    "\tprint(\"Sorted array is: \", end=\"\\n\")\n",
    "\tprintList(arr)\n",
    "\n",
    "\n"
   ]
  },
  {
   "cell_type": "code",
   "execution_count": null,
   "metadata": {},
   "outputs": [],
   "source": [
    "#BOOK ALLOCATION PROBLEM\n"
   ]
  }
 ],
 "metadata": {
  "kernelspec": {
   "display_name": "Python 3.10.6 64-bit",
   "language": "python",
   "name": "python3"
  },
  "language_info": {
   "codemirror_mode": {
    "name": "ipython",
    "version": 3
   },
   "file_extension": ".py",
   "mimetype": "text/x-python",
   "name": "python",
   "nbconvert_exporter": "python",
   "pygments_lexer": "ipython3",
   "version": "3.10.6"
  },
  "orig_nbformat": 4,
  "vscode": {
   "interpreter": {
    "hash": "916dbcbb3f70747c44a77c7bcd40155683ae19c65e1c03b4aa3499c5328201f1"
   }
  }
 },
 "nbformat": 4,
 "nbformat_minor": 2
}
